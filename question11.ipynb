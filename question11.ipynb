{
 "cells": [
  {
   "cell_type": "markdown",
   "id": "6cfc9e91-b36e-4c4e-a865-d6c52e5e829e",
   "metadata": {},
   "source": [
    "# Jorge Valdivia\n",
    "Notebook for Assignment 7"
   ]
  },
  {
   "cell_type": "code",
   "execution_count": 1,
   "id": "6a1a7253-46a9-4d15-b685-d3f17d2fd031",
   "metadata": {},
   "outputs": [
    {
     "data": {
      "text/plain": [
       "5.0"
      ]
     },
     "execution_count": 1,
     "metadata": {},
     "output_type": "execute_result"
    }
   ],
   "source": [
    "def compute_mean(num_list):\n",
    "    return sum(num_list)/len(num_list)\n",
    "    \n",
    "compute_mean([2, 4, 6, 8])"
   ]
  },
  {
   "cell_type": "markdown",
   "id": "92c02493-20e3-4285-9f87-8f4885f8cc74",
   "metadata": {},
   "source": [
    "The function above *sums* all the values in the list and *divide* between the **lenght** of the list. It uses the following formula:\n",
    "$$\n",
    "\\overline{X}= \\frac{x_1+x_2 + \\cdots + x_n}{n} =\\frac{1}{n} \\Bigg( \\sum_{i=1}^{n}x_i \\Bigg)\t\n",
    "$$"
   ]
  }
 ],
 "metadata": {
  "kernelspec": {
   "display_name": "Python 3 (ipykernel)",
   "language": "python",
   "name": "python3"
  },
  "language_info": {
   "codemirror_mode": {
    "name": "ipython",
    "version": 3
   },
   "file_extension": ".py",
   "mimetype": "text/x-python",
   "name": "python",
   "nbconvert_exporter": "python",
   "pygments_lexer": "ipython3",
   "version": "3.12.3"
  }
 },
 "nbformat": 4,
 "nbformat_minor": 5
}
